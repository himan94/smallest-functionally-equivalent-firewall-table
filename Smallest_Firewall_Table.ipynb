{
 "cells": [
  {
   "cell_type": "markdown",
   "metadata": {},
   "source": [
    "<font size=\"6\"><h3 align=\"center\"><span style=\"color:red\">Smallest Firewall table</span></h3></font>\n",
    "\n",
    "\n",
    "\n",
    "This script uses an GUI to take user inputs. The inputs are:\n",
    "\n",
    "1. Function - The options are:\n",
    "\n",
    " i.Smallest functionally equivalent firewall table\n",
    " \n",
    " ii.Frequently used Servers and Ports\n",
    " \n",
    "\n",
    "2. Input File - Enter the name of input file\n",
    "\n",
    "3. Output File - Enter a name that the user would like to assign to the output file\n",
    "\n",
    "<span style=\"color:red\">COMPLEXITY:</span> The complexity of the steps is noted in the markdown cells"
   ]
  },
  {
   "cell_type": "markdown",
   "metadata": {},
   "source": [
    "## Importing the libraries"
   ]
  },
  {
   "cell_type": "code",
   "execution_count": 129,
   "metadata": {},
   "outputs": [],
   "source": [
    "from collections import defaultdict\n",
    "import PySimpleGUI as sg\n",
    "import pandas as pd\n",
    "import regex as re\n",
    "import sys"
   ]
  },
  {
   "cell_type": "markdown",
   "metadata": {},
   "source": [
    "## Creating the GUI"
   ]
  },
  {
   "cell_type": "code",
   "execution_count": null,
   "metadata": {},
   "outputs": [],
   "source": [
    "#Return values as a list\n",
    "window = sg.FlexForm('Simple data entry form')  # begin with a blank form\n",
    "\n",
    "#Preparing the layout for the window screen\n",
    "layout = [\n",
    "          [sg.Text('Please enter the Function, Input File Name, Output File Name')],\n",
    "          [sg.Text('The Functions available are:')],\n",
    "          [sg.Text('1: Smallest functionally equivalent firewall table')],\n",
    "          [sg.Text('2: Frequently used Servers and Ports')],\n",
    "          [sg.Text('Function', size=(15, 1)), sg.InputText('function')],\n",
    "          [sg.Text('Input File', size=(15, 1)), sg.InputText('input')],\n",
    "          [sg.Text('Output File', size=(15, 1)), sg.InputText('output')],\n",
    "          [sg.Submit()]\n",
    "         ]\n",
    "\n",
    "#Reading the events which would be the inputs in this case\n",
    "button, values = window.Layout(layout).Read()\n",
    "#Closing once the submit button is pressed\n",
    "window.close()"
   ]
  },
  {
   "cell_type": "markdown",
   "metadata": {},
   "source": [
    "## Validating inputs from the GUI"
   ]
  },
  {
   "cell_type": "code",
   "execution_count": 131,
   "metadata": {},
   "outputs": [],
   "source": [
    "#If any of the inputs is empty, exit the program\n",
    "if ((not values[0]) or ((not values[1])) or ((not values[2]))):\n",
    "    print('Please fill all the inputs')\n",
    "    sys.exit('Please fill all the inputs')\n",
    "\n",
    "#Function should be either '1' or '2'. If not exit the program\n",
    "if(values[0] not in ['1','2']):\n",
    "    print('Options shouldbe either 1 or 2 only')\n",
    "    sys.exit('Options shouldbe either 1 or 2 only')\n",
    "    \n",
    "#If the Input file isn't present, exit the program\n",
    "try:\n",
    "    df = pd.read_csv(values[1])\n",
    "except FileNotFoundError:\n",
    "    print('Input file does not exist')\n",
    "    sys.exit('Input file does not exist')"
   ]
  },
  {
   "cell_type": "markdown",
   "metadata": {},
   "source": [
    "## Step 1 - Merging redundant rules\n",
    "\n",
    "This would remove rows which have similar server AND port number while retaining only their first occurance.\n",
    "\n",
    "Ex:\n",
    "Input-\n",
    "\n",
    "R1\tS1\t22\n",
    "\n",
    "R3\tS1\t22\n",
    "\n",
    "R1\tS2\t80\n",
    "\n",
    "R2\tS2\t80\n",
    " \n",
    "Row 1 and 2 use the same servers and ports and therefore should be merged\n",
    "Row 3 and 4 use the same servers and ports and therefore should be merged\n",
    "\n",
    "Output-\n",
    "\n",
    "R1\tS1\t22\n",
    "\n",
    "R1\tS2\t80\n",
    "\n",
    "<span style=\"color:red\">COMPLEXITY:</span> Not sure about the O(n) notation but based on this thread, it's a faster approach than the other methods\n",
    "\n",
    "https://stackoverflow.com/questions/13035764/remove-rows-with-duplicate-indices-pandas-dataframe-and-timeseries/34297689#34297689"
   ]
  },
  {
   "cell_type": "code",
   "execution_count": 114,
   "metadata": {},
   "outputs": [],
   "source": [
    "def non_redundant_removal(dataframe):\n",
    "    \n",
    "    #Finding duplicates based on the server and port column\n",
    "    non_redundant_df = dataframe[~dataframe.duplicated(['server', 'port'])].reset_index()\n",
    "    non_redundant_df.drop('index', axis=1, inplace=True)\n",
    "    return(non_redundant_df)"
   ]
  },
  {
   "cell_type": "markdown",
   "metadata": {},
   "source": [
    "## Step 2 Consolidating rules for frequently occuring ports\n",
    "\n",
    "In this step, the rule_name of the frequently occuring ports( port numbers repeating more than 1 time) will be consolidated\n",
    "\n",
    "Ex Input -\n",
    "\n",
    "R1\tS1\t22\n",
    "\n",
    "R1\tS2\t22\n",
    "\n",
    "R2\tS2\t22\n",
    "\n",
    "R2\tS3\t22\n",
    "\n",
    "R3\tS1\t22\n",
    "\n",
    "R3\tS3\t22\n",
    "\n",
    "Output - \n",
    "\n",
    "New R1 (row 1+5)\tS1\t22\n",
    "\n",
    "New R1 (row 2+3)\tS2\t22\n",
    "\n",
    "New R1 (row 4+6)\tS3\t22\n",
    "\n",
    "<span style=\"color:red\">COMPLEXITY:</span>\n",
    "\n",
    "- Sorting dataframe by column uses quicksort :\n",
    "Hence O(n log(n)) (best case) and O(n^2) (worst case)\n",
    "\n",
    "- While loop :\n",
    "O(n)"
   ]
  },
  {
   "cell_type": "code",
   "execution_count": 117,
   "metadata": {},
   "outputs": [],
   "source": [
    "def port_consolidation(dataframe):\n",
    "    \n",
    "    #Sorting the dataframe by port in order to decrease complexity\n",
    "    sorted_df = dataframe.sort_values(by=['port'], ascending=True).reset_index()\n",
    "    sorted_df.drop('index', axis=1, inplace=True)\n",
    "    \n",
    "    #Running a single loop to check if the current port-no is equal to next port-no\n",
    "    row = 0\n",
    "    while (row < len(sorted_df)-1):\n",
    "        #if the current and next port numbers are same, change the rule_name value based on the naming convention\n",
    "        if (sorted_df.iloc[row,2] == sorted_df.iloc[row+1,2]):\n",
    "            sorted_df.iloc[row,0]   = 'NR'+ str(sorted_df.iloc[row,2])\n",
    "            sorted_df.iloc[row+1,0] = 'NR'+ str(sorted_df.iloc[row,2])\n",
    "            #sorted_df['rule_name'][row + 1] = 'NR'+str(sorted_df['port'][row])\n",
    "            row = row + 1\n",
    "        else:\n",
    "            row = row + 1\n",
    "    \n",
    "    return(sorted_df)"
   ]
  },
  {
   "cell_type": "markdown",
   "metadata": {},
   "source": [
    "## Step 3  Joining the server with the smallest number of rules\n",
    "\n",
    "In this step, similar servers will have similar rule_name\n",
    "\n",
    "Ex Input: \n",
    "\n",
    "R1\tS1\t25\n",
    "\n",
    "R2\tS1\t30\n",
    "\n",
    "R3\tS1\t45\n",
    "\n",
    "R4\tS1\t50\n",
    "\n",
    "Output\n",
    "\n",
    "New R1\tS1\t25\n",
    "\n",
    "New R1\tS1\t30\n",
    "\n",
    "New R1\tS1\t45\n",
    "\n",
    "New R1\tS1\t50\n",
    "\n",
    "<span style=\"color:red\">COMPLEXITY:</span>\n",
    "\n",
    "- Sorting dataframe by column uses quicksort :\n",
    "Hence O(n log(n)) (best case) and O(n^2) (worst case)\n",
    "\n",
    "- While loop :\n",
    "O(n)"
   ]
  },
  {
   "cell_type": "code",
   "execution_count": 120,
   "metadata": {},
   "outputs": [],
   "source": [
    "def server_smallest_rules(dataframe):\n",
    "    \n",
    "    ##Sorting the dataframe by server column in order to decrease complexity\n",
    "    df_step3 = dataframe.sort_values(by=['server'], ascending=True).reset_index()\n",
    "    df_step3.drop('index', axis=1, inplace=True)\n",
    "    \n",
    "    #Running a single loop to check if the current server-no is equal to next server-no\n",
    "    row = 0\n",
    "    while (row < len(df_step3)-1):\n",
    "        #if the current and next server-no numbers are same, change the rule_name value based on the naming convention\n",
    "        if (df_step3.iloc[row,1] == df_step3.iloc[row+1,1]):\n",
    "            df_step3.iloc[row,0]   = 'NRS'+ re.findall(r'\\d+',df_step3.iloc[row,1])[0]#str(sorted_df.iloc[row,2])\n",
    "            df_step3.iloc[row+1,0] = 'NRS'+ re.findall(r'\\d+',df_step3.iloc[row,1])[0]\n",
    "            #sorted_df['rule_name'][row + 1] = 'NR'+str(sorted_df['port'][row])\n",
    "            row = row + 1\n",
    "        else:\n",
    "            row = row + 1\n",
    "            \n",
    "    return(df_step3)"
   ]
  },
  {
   "cell_type": "markdown",
   "metadata": {},
   "source": [
    "## Step 4  Make the rule have smallest number of ports\n",
    "\n",
    "In this step, we find the smallest number of ports that allows the biggest number of servers in that rule. \n",
    "\n",
    "Ex: Input -\n",
    "\n",
    "R-498\tS-104\t219\n",
    "\n",
    "R-498\tS-104\t309\n",
    "\n",
    "Output -\n",
    "\n",
    "R-498\tS-104\t219\n",
    "\n",
    "or \n",
    "\n",
    "R-498\tS-104\t309\n",
    "\n",
    "but not both (in this code, only the first occurance would be retained)\n",
    "\n",
    "<span style=\"color:red\">COMPLEXITY:</span> Not sure about the O(n) notation but based on this thread, it's a faster approach than the other methods\n",
    "\n",
    "https://stackoverflow.com/questions/13035764/remove-rows-with-duplicate-indices-pandas-dataframe-and-timeseries/34297689#34297689"
   ]
  },
  {
   "cell_type": "code",
   "execution_count": 122,
   "metadata": {},
   "outputs": [],
   "source": [
    "def rule_smallest_ports(dataframe):\n",
    "    \n",
    "    #Finding duplicates based on the rule_name and server column\n",
    "    df_step4 = dataframe[~dataframe.duplicated(['rule_name','server'])].reset_index()\n",
    "    df_step4.drop('index', axis=1, inplace=True)\n",
    "    \n",
    "    return(df_step4)"
   ]
  },
  {
   "cell_type": "markdown",
   "metadata": {},
   "source": [
    "## Step 4 directly after Step 2\n",
    "\n",
    "Evaluating the number of rows if we skip step 3 and move directly to step 4\n",
    "\n",
    "Used in the final funcion call"
   ]
  },
  {
   "cell_type": "code",
   "execution_count": 125,
   "metadata": {},
   "outputs": [],
   "source": [
    "#step2_4_df = rule_smallest_ports(step2_df)"
   ]
  },
  {
   "cell_type": "markdown",
   "metadata": {},
   "source": [
    "## Function to find out the most frequently used servers and ports\n",
    "\n",
    "There can be times when the load on some particular servers or ports could be substainally high.\n",
    "\n",
    "In that case, we would have to quickly identify those servers and ports in order to change settings\n",
    "\n",
    "<span style=\"color:red\">COMPLEXITY:</span>\n",
    "\n",
    "- Defaultdict : O(n)\n",
    "\n",
    "- Sorting dictionary based on key : O(n log n)"
   ]
  },
  {
   "cell_type": "code",
   "execution_count": 132,
   "metadata": {},
   "outputs": [],
   "source": [
    "def Max_Server_Port_Frequency(dataframe):\n",
    "    \n",
    "    #Using defaultdict to store the frequency of all servers and ports\n",
    "    Max_used_servers = defaultdict(int)\n",
    "    Max_used_ports = defaultdict(int)\n",
    "    for row in range(0,len(dataframe)):\n",
    "        Max_used_servers[dataframe.iloc[row,1]] += 1\n",
    "        Max_used_ports[dataframe.iloc[row,2]] += 1\n",
    "    \n",
    "    #Sorting both the dictionaries based on the key/frequency value in descending order and then selecting the top 10\n",
    "    Max_used_servers_sorted = sorted(Max_used_servers.items(), key=lambda x: x[1],reverse = True)[0:10]\n",
    "    Max_used_ports_sorted = sorted(Max_used_ports.items(), key=lambda x: x[1],reverse = True)[0:10]\n",
    "\n",
    "    #Initializing 4 list to store the values which would be then transformed into a dataframe\n",
    "    \n",
    "    Server = []                   #Stores server name\n",
    "    Server_frequency = []         #Stores server frequency\n",
    "    port = []                     #Stores port name\n",
    "    port_frequency = []           #Stores port frequency\n",
    "    \n",
    "    #Filling the empty lists\n",
    "    for server_no,port_no in zip(Max_used_servers_sorted,Max_used_ports_sorted):\n",
    "        Server.append(server_no[0])\n",
    "        Server_frequency.append(server_no[1])\n",
    "        port.append(port_no[0])\n",
    "        port_frequency.append(port_no[1])\n",
    "    \n",
    "    #Creating a dataframe\n",
    "    Server_Port_frequency = pd.DataFrame(list(zip(Server,Server_frequency,port,port_frequency)),columns =['Server','Server_frequency','port','port_frequency'])\n",
    "    \n",
    "    return(Server_Port_frequency)"
   ]
  },
  {
   "cell_type": "markdown",
   "metadata": {},
   "source": [
    "## Implementing the function option(from the GUI)"
   ]
  },
  {
   "cell_type": "code",
   "execution_count": null,
   "metadata": {},
   "outputs": [],
   "source": [
    "# option 1 produces the smallest functionally equivalent firewall table\n",
    "\n",
    "if (values[0] == '1'):\n",
    "    step1_df = non_redundant_removal(df)               #Step1\n",
    "    step2_df = port_consolidation(step1_df)            #Step2\n",
    "    step3_df_copy = step2_df.copy()                    #Creating a copy after step 2, this would be used to check the contradiction condition\n",
    "    step3_df = server_smallest_rules(step3_df_copy)    #Step3\n",
    "    step4_df = rule_smallest_ports(step3_df)           #Step4\n",
    "    step2_4_df = rule_smallest_ports(step2_df)         #the dataframe obtained if we go from step2 -> 4 without using step 3\n",
    "\n",
    "    #We will select the dataframe with the minimum number of rows\n",
    "    if( len(step4_df) <= len(step2_4_df) ):            \n",
    "        step4_df.to_csv(values[2],header=True, index=False)  #values[2] is the name of the output file\n",
    "    else:\n",
    "        step2_4_df.to_csv(values[2],header=True, index=False)\n",
    "    \n",
    "    #Verying if all the unique(non-duplicate) servers are retained\n",
    "    if (len(set(step4_df['server'])) == len(set(df['server']))):   \n",
    "        print('All servers from ' + str(values[1]) + ' retained in the smallest equivalent firwall table')\n",
    "\n",
    "#If option chosen is 2 i.e frequency for max used servers and ports\n",
    "elif(values[0] == '2'):\n",
    "    \n",
    "    Frequency_Dataframe = Max_Server_Port_Frequency(df)\n",
    "    Frequency_Dataframe.to_csv(values[2],header=True, index=False)\n",
    "    print(str(values[2]) + ' file created')"
   ]
  }
 ],
 "metadata": {
  "kernelspec": {
   "display_name": "Python 3",
   "language": "python",
   "name": "python3"
  },
  "language_info": {
   "codemirror_mode": {
    "name": "ipython",
    "version": 3
   },
   "file_extension": ".py",
   "mimetype": "text/x-python",
   "name": "python",
   "nbconvert_exporter": "python",
   "pygments_lexer": "ipython3",
   "version": "3.7.7"
  }
 },
 "nbformat": 4,
 "nbformat_minor": 2
}
